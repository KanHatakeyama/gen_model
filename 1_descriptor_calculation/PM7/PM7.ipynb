{
 "cells": [
  {
   "cell_type": "markdown",
   "metadata": {},
   "source": [
    "# Calculate molecular properties by PM7 method\n",
    "- Requirements (free softwares)\n",
    "    - ASE: Wrapper library to run mopac (https://wiki.fysik.dtu.dk/ase/about.html)\n",
    "    - MOPAC: Package to calculate molecular orbitals (http://openmopac.net/)\n",
    "    - Open Babel: Package to calculate molecular geometry (https://jcheminf.biomedcentral.com/articles/10.1186/1758-2946-3-33)"
   ]
  },
  {
   "cell_type": "code",
   "execution_count": 1,
   "metadata": {},
   "outputs": [],
   "source": [
    "from ase.build import molecule\n",
    "from ase.calculators.mopac import MOPAC\n",
    "from ase.io import read\n",
    "import numpy as np"
   ]
  },
  {
   "cell_type": "code",
   "execution_count": 2,
   "metadata": {},
   "outputs": [],
   "source": [
    "#run MOPAC\n",
    "\"\"\"\n",
    "steps\n",
    "1) read SMILES character from temp/smiles.txt\n",
    "2) generate mol file by open babel\n",
    "3) run PM7\n",
    "4) return properties as dict\n",
    "\"\"\"\n",
    "def run_mopac():\n",
    "\n",
    "    !babel -i smi \"temp/smiles.txt\" -o mol \"temp/mol.mol\" --gen3D\n",
    "\n",
    "    prop_dict={}\n",
    "\n",
    "    atoms = read(\"temp/mol.mol\")\n",
    "    atoms.calc = MOPAC()\n",
    "    atoms.get_potential_energy()\n",
    "    eigs = atoms.calc.get_eigenvalues()\n",
    "    #somos = atoms.calc.get_somo_levels()\n",
    "    homo, lumo = atoms.calc.get_homo_lumo_levels()\n",
    "    a,b,c,=atoms.calc.get_dipole_moment()\n",
    "\n",
    "    prop_dict[\"homo\"]=homo\n",
    "    prop_dict[\"lumo\"]=lumo\n",
    "    \n",
    "    \n",
    "    homo_ind=np.where(eigs==homo)[0]\n",
    "    \n",
    "    for name,param in zip([\"homo-1\",\"homo-2\",\"homo-3\",\n",
    "                           \"lumo+1\",\"lumo-2\",\"lumo+3\"],\n",
    "                          [homo_ind-1,homo_ind-2,homo_ind-3,\n",
    "                           homo_ind+1+1,homo_ind+1+2,homo_ind+1+3]\n",
    "                         ):\n",
    "        try:\n",
    "            prop_dict[name]=eigs[param][0]\n",
    "        except:\n",
    "            prop_dict[name]=np.nan\n",
    "\n",
    "    prop_dict[\"dipole_x\"]=a\n",
    "    prop_dict[\"dipole_y\"]=b\n",
    "    prop_dict[\"dipole_z\"]=c\n",
    "    prop_dict[\"heat_formation\"]=atoms.calc.get_final_heat_of_formation()\n",
    "    \n",
    "    try:\n",
    "        prop_dict[\"magnetic_moment\"]=atoms.calc.get_magnetic_moment()\n",
    "    except:\n",
    "        prop_dict[\"magnetic_moment\"]=0\n",
    "    return prop_dict\n",
    "\n",
    "def write_smiles(smiles):\n",
    "    with open(\"temp/smiles.txt\", mode='w') as f:\n",
    "        f.write(smiles)"
   ]
  },
  {
   "cell_type": "code",
   "execution_count": 3,
   "metadata": {},
   "outputs": [
    {
     "name": "stdout",
     "output_type": "stream",
     "text": [
      "1 molecule converted\r\n",
      "68 audit log messages \r\n"
     ]
    },
    {
     "data": {
      "text/plain": [
       "{'homo': -11.08105,\n",
       " 'lumo': 3.91795,\n",
       " 'homo-1': -11.27516,\n",
       " 'homo-2': -11.88507,\n",
       " 'homo-3': -11.88754,\n",
       " 'lumo+1': 3.9189,\n",
       " 'lumo-2': 4.3086,\n",
       " 'lumo+3': 5.09509,\n",
       " 'dipole_x': 0.007703190373711153,\n",
       " 'dipole_y': -0.002290137678670883,\n",
       " 'dipole_z': 0.0006245830032738773,\n",
       " 'heat_formation': -0.7864505210590806,\n",
       " 'magnetic_moment': 0}"
      ]
     },
     "execution_count": 3,
     "metadata": {},
     "output_type": "execute_result"
    }
   ],
   "source": [
    "#test code\n",
    "smiles=\"C1CCCC1\"\n",
    "write_smiles(smiles)\n",
    "run_mopac()"
   ]
  },
  {
   "cell_type": "code",
   "execution_count": 4,
   "metadata": {
    "scrolled": true
   },
   "outputs": [
    {
     "name": "stderr",
     "output_type": "stream",
     "text": [
      "\r",
      "  0%|          | 0/10 [00:00<?, ?it/s]"
     ]
    },
    {
     "name": "stdout",
     "output_type": "stream",
     "text": [
      "1 molecule converted\r\n",
      "69 audit log messages 3 debugging messages \r\n"
     ]
    },
    {
     "name": "stderr",
     "output_type": "stream",
     "text": [
      "\r",
      " 10%|█         | 1/10 [00:01<00:11,  1.26s/it]"
     ]
    },
    {
     "name": "stdout",
     "output_type": "stream",
     "text": [
      "1 molecule converted\r\n",
      "71 audit log messages 4 debugging messages \r\n"
     ]
    },
    {
     "name": "stderr",
     "output_type": "stream",
     "text": [
      "\r",
      " 20%|██        | 2/10 [00:02<00:10,  1.34s/it]"
     ]
    },
    {
     "name": "stdout",
     "output_type": "stream",
     "text": [
      "1 molecule converted\r\n",
      "73 audit log messages 5 debugging messages \r\n"
     ]
    },
    {
     "name": "stderr",
     "output_type": "stream",
     "text": [
      "\r",
      " 30%|███       | 3/10 [00:04<00:09,  1.42s/it]"
     ]
    },
    {
     "name": "stdout",
     "output_type": "stream",
     "text": [
      "1 molecule converted\r\n",
      "70 audit log messages \r\n"
     ]
    },
    {
     "name": "stderr",
     "output_type": "stream",
     "text": [
      "\r",
      " 40%|████      | 4/10 [00:04<00:06,  1.11s/it]"
     ]
    },
    {
     "name": "stdout",
     "output_type": "stream",
     "text": [
      "1 molecule converted\r\n",
      "100 audit log messages \r\n"
     ]
    },
    {
     "name": "stderr",
     "output_type": "stream",
     "text": [
      "\r",
      " 50%|█████     | 5/10 [00:05<00:04,  1.15it/s]"
     ]
    },
    {
     "name": "stdout",
     "output_type": "stream",
     "text": [
      "1 molecule converted\r\n",
      "108 audit log messages \r\n"
     ]
    },
    {
     "name": "stderr",
     "output_type": "stream",
     "text": [
      "\r",
      " 60%|██████    | 6/10 [00:05<00:02,  1.41it/s]"
     ]
    },
    {
     "name": "stdout",
     "output_type": "stream",
     "text": [
      "1 molecule converted\r\n",
      "110 audit log messages \r\n"
     ]
    },
    {
     "name": "stderr",
     "output_type": "stream",
     "text": [
      "\r",
      " 70%|███████   | 7/10 [00:05<00:01,  1.68it/s]"
     ]
    },
    {
     "name": "stdout",
     "output_type": "stream",
     "text": [
      "1 molecule converted\r\n",
      "110 audit log messages \r\n"
     ]
    },
    {
     "name": "stderr",
     "output_type": "stream",
     "text": [
      "\r",
      " 80%|████████  | 8/10 [00:06<00:01,  1.94it/s]"
     ]
    },
    {
     "name": "stdout",
     "output_type": "stream",
     "text": [
      "1 molecule converted\r\n",
      "112 audit log messages \r\n"
     ]
    },
    {
     "name": "stderr",
     "output_type": "stream",
     "text": [
      "\r",
      " 90%|█████████ | 9/10 [00:06<00:00,  2.16it/s]"
     ]
    },
    {
     "name": "stdout",
     "output_type": "stream",
     "text": [
      "1 molecule converted\r\n",
      "116 audit log messages 1 debugging messages \r\n"
     ]
    },
    {
     "name": "stderr",
     "output_type": "stream",
     "text": [
      "100%|██████████| 10/10 [00:07<00:00,  1.43it/s]\n"
     ]
    }
   ],
   "source": [
    "#run all data\n",
    "import pandas as pd\n",
    "from tqdm import tqdm\n",
    "df=pd.read_csv(\"../../database/small_db.csv\")\n",
    "\n",
    "prop_dict={}\n",
    "\n",
    "for i in tqdm(df[\"SMILES\"][:10]):\n",
    "    write_smiles(i)\n",
    "    prop_dict[i]=run_mopac()"
   ]
  },
  {
   "cell_type": "code",
   "execution_count": 5,
   "metadata": {},
   "outputs": [
    {
     "data": {
      "text/plain": [
       "{'CCCCCC': {'homo': -11.10114,\n",
       "  'lumo': 3.96218,\n",
       "  'homo-1': -11.27784,\n",
       "  'homo-2': -11.4681,\n",
       "  'homo-3': -11.64048,\n",
       "  'lumo+1': 4.28826,\n",
       "  'lumo-2': 4.41327,\n",
       "  'lumo+3': 4.87742,\n",
       "  'dipole_x': -0.0008327773376985031,\n",
       "  'dipole_y': -0.0010409716721231288,\n",
       "  'dipole_z': -0.0010409716721231288,\n",
       "  'heat_formation': -1.6334442694200135,\n",
       "  'magnetic_moment': 0},\n",
       " 'CCCCCCC': {'homo': -11.08127,\n",
       "  'lumo': 3.91881,\n",
       "  'homo-1': -11.19203,\n",
       "  'homo-2': -11.32067,\n",
       "  'homo-3': -11.55199,\n",
       "  'lumo+1': 4.18036,\n",
       "  'lumo-2': 4.32165,\n",
       "  'lumo+3': 4.64726,\n",
       "  'dipole_x': -0.005621247029464895,\n",
       "  'dipole_y': -0.003955692354067889,\n",
       "  'dipole_z': -0.004996664026191019,\n",
       "  'heat_formation': -1.8504087577479296,\n",
       "  'magnetic_moment': 0},\n",
       " 'CCCCCCCC': {'homo': -10.92425,\n",
       "  'lumo': 3.93648,\n",
       "  'homo-1': -11.01479,\n",
       "  'homo-2': -11.30109,\n",
       "  'homo-3': -11.39124,\n",
       "  'lumo+1': 4.24225,\n",
       "  'lumo-2': 4.31743,\n",
       "  'lumo+3': 4.5557,\n",
       "  'dipole_x': -0.00041638866884925155,\n",
       "  'dipole_y': -0.002706526347520135,\n",
       "  'dipole_z': -0.00020819433442462577,\n",
       "  'heat_formation': -1.9993640210054286,\n",
       "  'magnetic_moment': 0},\n",
       " 'C1CCCCC1': {'homo': -10.87562,\n",
       "  'lumo': 4.1308,\n",
       "  'homo-1': -10.87685,\n",
       "  'homo-2': -10.88974,\n",
       "  'homo-3': -11.8572,\n",
       "  'lumo+1': 4.13159,\n",
       "  'lumo-2': 4.39147,\n",
       "  'lumo+3': 4.75878,\n",
       "  'dipole_x': 0.00041638866884925155,\n",
       "  'dipole_y': 0.0,\n",
       "  'dipole_z': -0.0,\n",
       "  'heat_formation': -1.151317392201789,\n",
       "  'magnetic_moment': 0},\n",
       " 'c1ccccc1': {'homo': -9.82059,\n",
       "  'lumo': 0.23062,\n",
       "  'homo-1': -9.82265,\n",
       "  'homo-2': -11.9424,\n",
       "  'homo-3': -11.94552,\n",
       "  'lumo+1': 0.23241,\n",
       "  'lumo-2': 2.57363,\n",
       "  'lumo+3': 4.42146,\n",
       "  'dipole_x': -0.0,\n",
       "  'dipole_y': -0.0,\n",
       "  'dipole_z': -0.0,\n",
       "  'heat_formation': 0.9957282883295775,\n",
       "  'magnetic_moment': 0},\n",
       " 'Cc1ccccc1': {'homo': -9.44027,\n",
       "  'lumo': 0.29852,\n",
       "  'homo-1': -9.75129,\n",
       "  'homo-2': -11.74834,\n",
       "  'homo-3': -11.90028,\n",
       "  'lumo+1': 0.35155,\n",
       "  'lumo-2': 2.64447,\n",
       "  'lumo+3': 3.9653,\n",
       "  'dipole_x': -0.11929535362531055,\n",
       "  'dipole_y': -0.007494996039286527,\n",
       "  'dipole_z': 0.002706526347520135,\n",
       "  'heat_formation': 0.5809341561609213,\n",
       "  'magnetic_moment': 0},\n",
       " 'Cc1ccccc1C': {'homo': -9.22443,\n",
       "  'lumo': 0.38536,\n",
       "  'homo-1': -9.5278,\n",
       "  'homo-2': -11.67569,\n",
       "  'homo-3': -11.68617,\n",
       "  'lumo+1': 0.42506,\n",
       "  'lumo-2': 2.70587,\n",
       "  'lumo+3': 3.85821,\n",
       "  'dipole_x': -0.1705111598937685,\n",
       "  'dipole_y': -0.10076605786151886,\n",
       "  'dipole_z': 0.0024983320130955093,\n",
       "  'heat_formation': 0.21061641715790824,\n",
       "  'magnetic_moment': 0},\n",
       " 'Cc1cccc(C)c1': {'homo': -9.26573,\n",
       "  'lumo': 0.38486,\n",
       "  'homo-1': -9.50033,\n",
       "  'homo-2': -11.6416,\n",
       "  'homo-3': -11.7941,\n",
       "  'lumo+1': 0.4552,\n",
       "  'lumo-2': 2.71492,\n",
       "  'lumo+3': 3.9845,\n",
       "  'dipole_x': -0.06578940967818174,\n",
       "  'dipole_y': -0.11055119157947628,\n",
       "  'dipole_z': 0.002290137678670883,\n",
       "  'heat_formation': 0.16391327725696933,\n",
       "  'magnetic_moment': 0},\n",
       " 'Cc1ccc(C)cc1': {'homo': -9.10671,\n",
       "  'lumo': 0.35635,\n",
       "  'homo-1': -9.68585,\n",
       "  'homo-2': -11.58681,\n",
       "  'homo-3': -11.86061,\n",
       "  'lumo+1': 0.45926,\n",
       "  'lumo-2': 2.70658,\n",
       "  'lumo+3': 3.90366,\n",
       "  'dipole_x': -0.0008327773376985031,\n",
       "  'dipole_y': -0.012908048734326797,\n",
       "  'dipole_z': -0.01040971672123129,\n",
       "  'heat_formation': 0.17669094411231814,\n",
       "  'magnetic_moment': 0},\n",
       " 'CCc1ccccc1': {'homo': -9.45459,\n",
       "  'lumo': 0.31973,\n",
       "  'homo-1': -9.72867,\n",
       "  'homo-2': -11.57529,\n",
       "  'homo-3': -11.60999,\n",
       "  'lumo+1': 0.34591,\n",
       "  'lumo-2': 2.64175,\n",
       "  'lumo+3': 3.91136,\n",
       "  'dipole_x': -0.05954357964544296,\n",
       "  'dipole_y': 0.010617911055655913,\n",
       "  'dipole_z': 0.101807029533642,\n",
       "  'heat_formation': 0.38484514745075066,\n",
       "  'magnetic_moment': 0}}"
      ]
     },
     "execution_count": 5,
     "metadata": {},
     "output_type": "execute_result"
    }
   ],
   "source": [
    "prop_dict"
   ]
  },
  {
   "cell_type": "code",
   "execution_count": null,
   "metadata": {},
   "outputs": [],
   "source": []
  }
 ],
 "metadata": {
  "kernelspec": {
   "display_name": "Environment (conda_self)",
   "language": "python",
   "name": "conda_self"
  },
  "language_info": {
   "codemirror_mode": {
    "name": "ipython",
    "version": 3
   },
   "file_extension": ".py",
   "mimetype": "text/x-python",
   "name": "python",
   "nbconvert_exporter": "python",
   "pygments_lexer": "ipython3",
   "version": "3.6.12"
  }
 },
 "nbformat": 4,
 "nbformat_minor": 4
}
