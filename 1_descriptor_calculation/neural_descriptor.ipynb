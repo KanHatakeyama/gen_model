{
 "cells": [
  {
   "cell_type": "markdown",
   "metadata": {},
   "source": [
    "# Calculate molecular descriptors by graph neural net"
   ]
  },
  {
   "cell_type": "code",
   "execution_count": 1,
   "metadata": {},
   "outputs": [],
   "source": [
    "%matplotlib inline\n",
    "import seaborn as sns\n",
    "import matplotlib.pyplot as plt\n",
    "import pandas as pd\n",
    "from sklearn.model_selection import train_test_split\n",
    "from rdkit import Chem\n",
    "import numpy as np"
   ]
  },
  {
   "cell_type": "code",
   "execution_count": 2,
   "metadata": {},
   "outputs": [
    {
     "data": {
      "text/html": [
       "<div>\n",
       "<style scoped>\n",
       "    .dataframe tbody tr th:only-of-type {\n",
       "        vertical-align: middle;\n",
       "    }\n",
       "\n",
       "    .dataframe tbody tr th {\n",
       "        vertical-align: top;\n",
       "    }\n",
       "\n",
       "    .dataframe thead th {\n",
       "        text-align: right;\n",
       "    }\n",
       "</style>\n",
       "<table border=\"1\" class=\"dataframe\">\n",
       "  <thead>\n",
       "    <tr style=\"text-align: right;\">\n",
       "      <th></th>\n",
       "      <th>Unnamed: 0</th>\n",
       "      <th>boiling temperature</th>\n",
       "      <th>melting temperature</th>\n",
       "      <th>density</th>\n",
       "      <th>viscosity</th>\n",
       "      <th>SMILES</th>\n",
       "    </tr>\n",
       "  </thead>\n",
       "  <tbody>\n",
       "    <tr>\n",
       "      <th>0</th>\n",
       "      <td>0</td>\n",
       "      <td>-0.999826</td>\n",
       "      <td>-1.072944</td>\n",
       "      <td>-1.466345</td>\n",
       "      <td>-0.857140</td>\n",
       "      <td>CCCCCC</td>\n",
       "    </tr>\n",
       "    <tr>\n",
       "      <th>1</th>\n",
       "      <td>1</td>\n",
       "      <td>-0.407466</td>\n",
       "      <td>-0.997391</td>\n",
       "      <td>-1.355887</td>\n",
       "      <td>-0.708313</td>\n",
       "      <td>CCCCCCC</td>\n",
       "    </tr>\n",
       "    <tr>\n",
       "      <th>2</th>\n",
       "      <td>2</td>\n",
       "      <td>0.113976</td>\n",
       "      <td>-0.218786</td>\n",
       "      <td>-1.268441</td>\n",
       "      <td>-0.613162</td>\n",
       "      <td>CCCCCCCC</td>\n",
       "    </tr>\n",
       "    <tr>\n",
       "      <th>3</th>\n",
       "      <td>3</td>\n",
       "      <td>-0.769429</td>\n",
       "      <td>0.961131</td>\n",
       "      <td>-0.918658</td>\n",
       "      <td>-0.293072</td>\n",
       "      <td>C1CCCCC1</td>\n",
       "    </tr>\n",
       "    <tr>\n",
       "      <th>4</th>\n",
       "      <td>4</td>\n",
       "      <td>-0.769429</td>\n",
       "      <td>0.944862</td>\n",
       "      <td>-0.458417</td>\n",
       "      <td>-0.422331</td>\n",
       "      <td>c1ccccc1</td>\n",
       "    </tr>\n",
       "    <tr>\n",
       "      <th>...</th>\n",
       "      <td>...</td>\n",
       "      <td>...</td>\n",
       "      <td>...</td>\n",
       "      <td>...</td>\n",
       "      <td>...</td>\n",
       "      <td>...</td>\n",
       "    </tr>\n",
       "    <tr>\n",
       "      <th>157</th>\n",
       "      <td>157</td>\n",
       "      <td>0.230720</td>\n",
       "      <td>-1.437014</td>\n",
       "      <td>0.098475</td>\n",
       "      <td>-0.366290</td>\n",
       "      <td>CCC[N+](=O)[O-]</td>\n",
       "    </tr>\n",
       "    <tr>\n",
       "      <th>158</th>\n",
       "      <td>158</td>\n",
       "      <td>-0.422740</td>\n",
       "      <td>2.176619</td>\n",
       "      <td>-0.914055</td>\n",
       "      <td>-0.745890</td>\n",
       "      <td>CCC#N</td>\n",
       "    </tr>\n",
       "    <tr>\n",
       "      <th>159</th>\n",
       "      <td>159</td>\n",
       "      <td>-0.029463</td>\n",
       "      <td>2.408080</td>\n",
       "      <td>-0.775983</td>\n",
       "      <td>-0.608380</td>\n",
       "      <td>CCCC#N</td>\n",
       "    </tr>\n",
       "    <tr>\n",
       "      <th>160</th>\n",
       "      <td>160</td>\n",
       "      <td>-0.292849</td>\n",
       "      <td>1.903800</td>\n",
       "      <td>-1.006104</td>\n",
       "      <td>-0.668010</td>\n",
       "      <td>CC(C)C#N</td>\n",
       "    </tr>\n",
       "    <tr>\n",
       "      <th>161</th>\n",
       "      <td>161</td>\n",
       "      <td>-0.563916</td>\n",
       "      <td>0.921988</td>\n",
       "      <td>0.391188</td>\n",
       "      <td>-0.541752</td>\n",
       "      <td>COC(=O)OC</td>\n",
       "    </tr>\n",
       "  </tbody>\n",
       "</table>\n",
       "<p>162 rows × 6 columns</p>\n",
       "</div>"
      ],
      "text/plain": [
       "     Unnamed: 0  boiling temperature  melting temperature   density  \\\n",
       "0             0            -0.999826            -1.072944 -1.466345   \n",
       "1             1            -0.407466            -0.997391 -1.355887   \n",
       "2             2             0.113976            -0.218786 -1.268441   \n",
       "3             3            -0.769429             0.961131 -0.918658   \n",
       "4             4            -0.769429             0.944862 -0.458417   \n",
       "..          ...                  ...                  ...       ...   \n",
       "157         157             0.230720            -1.437014  0.098475   \n",
       "158         158            -0.422740             2.176619 -0.914055   \n",
       "159         159            -0.029463             2.408080 -0.775983   \n",
       "160         160            -0.292849             1.903800 -1.006104   \n",
       "161         161            -0.563916             0.921988  0.391188   \n",
       "\n",
       "     viscosity           SMILES  \n",
       "0    -0.857140           CCCCCC  \n",
       "1    -0.708313          CCCCCCC  \n",
       "2    -0.613162         CCCCCCCC  \n",
       "3    -0.293072         C1CCCCC1  \n",
       "4    -0.422331         c1ccccc1  \n",
       "..         ...              ...  \n",
       "157  -0.366290  CCC[N+](=O)[O-]  \n",
       "158  -0.745890            CCC#N  \n",
       "159  -0.608380           CCCC#N  \n",
       "160  -0.668010         CC(C)C#N  \n",
       "161  -0.541752        COC(=O)OC  \n",
       "\n",
       "[162 rows x 6 columns]"
      ]
     },
     "execution_count": 2,
     "metadata": {},
     "output_type": "execute_result"
    }
   ],
   "source": [
    "#load database\n",
    "path=\"../database/small_db.csv\"\n",
    "df=pd.read_csv(path)\n",
    "df"
   ]
  },
  {
   "cell_type": "code",
   "execution_count": 3,
   "metadata": {},
   "outputs": [],
   "source": [
    "#set target y\n",
    "target=\"boiling temperature\"\n",
    "#target=\"melting temperature\"\n",
    "#target=\"density\"\n",
    "#target=\"viscosity\"\n",
    "\n",
    "#prepare mol objects and y\n",
    "smiles_list=df[\"SMILES\"]\n",
    "mol_list=[Chem.MolFromSmiles(s) for s in df[\"SMILES\"]]\n",
    "y_list=np.array(df[target],dtype=np.float32).reshape(-1,1)\n",
    "\n",
    "#in this demo, train/test dataset is made\n",
    "spl_ratio=0.8\n",
    "train_mols,test_mols,train_y,test_y=train_test_split(mol_list,y_list,test_size=0.3)\n",
    "\n",
    "#if you want to just calculate descriptors, train all data\n",
    "#train_mols,train_y=mol_list,y_list"
   ]
  },
  {
   "cell_type": "code",
   "execution_count": 4,
   "metadata": {},
   "outputs": [
    {
     "name": "stderr",
     "output_type": "stream",
     "text": [
      "Using backend: pytorch\n",
      "/home/kh/anaconda3/envs/self/lib/python3.6/site-packages/dgl/base.py:45: DGLWarning: Recommend creating graphs by `dgl.graph(data)` instead of `dgl.DGLGraph(data)`.\n",
      "  return warnings.warn(message, category=category, stacklevel=1)\n"
     ]
    }
   ],
   "source": [
    "#prepare graph objects from mol objects\n",
    "from gnn import mol2dgl_single,collate,ATOM_FDIM, MID_DIM,GCN\n",
    "train_graphs = mol2dgl_single(train_mols)\n",
    "test_graphs = mol2dgl_single(test_mols)"
   ]
  },
  {
   "cell_type": "code",
   "execution_count": 5,
   "metadata": {},
   "outputs": [],
   "source": [
    "#set dataloader\n",
    "from torch.utils.data import DataLoader\n",
    "BATCH_SIZE=16\n",
    "dataset = list(zip(train_graphs, train_y))\n",
    "data_loader = DataLoader(dataset, batch_size=BATCH_SIZE, shuffle=True, collate_fn=collate)"
   ]
  },
  {
   "cell_type": "code",
   "execution_count": 6,
   "metadata": {},
   "outputs": [],
   "source": [
    "#define regressor\n",
    "\n",
    "import torch\n",
    "import torch.nn as nn\n",
    "import torch.nn.functional as F\n",
    "import torch.optim as optim\n",
    "import dgl\n",
    "\n",
    "\n",
    "class Regressor(nn.Module):\n",
    "    def __init__(self, in_dim, hidden_dim, out_size):\n",
    "        super(Regressor, self).__init__()\n",
    "        self.layers = nn.ModuleList([GCN(in_dim, hidden_dim, F.relu),\n",
    "                                    GCN(hidden_dim, hidden_dim, F.relu)])\n",
    "        self.regress = nn.Linear(hidden_dim, out_size)\n",
    "        self.intermediate_mode=0\n",
    "        \n",
    "    def forward(self, g):\n",
    "        h = g.ndata['h']\n",
    "        for conv in self.layers:\n",
    "            h = conv(g, h)\n",
    "        g.ndata['h'] = h\n",
    "        hg = dgl.mean_nodes(g, 'h')\n",
    "        \n",
    "        if self.intermediate_mode==2:\n",
    "            return hg\n",
    "        elif self.intermediate_mode==1:\n",
    "            return self.regress(hg)\n",
    "        else:\n",
    "            return self.regress(hg),hg\n"
   ]
  },
  {
   "cell_type": "code",
   "execution_count": 7,
   "metadata": {},
   "outputs": [
    {
     "data": {
      "text/plain": [
       "Regressor(\n",
       "  (layers): ModuleList(\n",
       "    (0): GCN(\n",
       "      (linear): Linear(in_features=28, out_features=32, bias=True)\n",
       "    )\n",
       "    (1): GCN(\n",
       "      (linear): Linear(in_features=32, out_features=32, bias=True)\n",
       "    )\n",
       "  )\n",
       "  (regress): Linear(in_features=32, out_features=1, bias=True)\n",
       ")"
      ]
     },
     "execution_count": 7,
     "metadata": {},
     "output_type": "execute_result"
    }
   ],
   "source": [
    "model = Regressor(ATOM_FDIM, MID_DIM, 1)\n",
    "\n",
    "# if intermediate_mode == 1, return y. if 2, return hidden layer outputs (= neural descriptor)\n",
    "model.intermediate_mode=1\n",
    "loss_func = nn.MSELoss()\n",
    "optimizer = optim.Adam(model.parameters(), lr=0.001)\n",
    "model.train()"
   ]
  },
  {
   "cell_type": "code",
   "execution_count": 8,
   "metadata": {
    "scrolled": true
   },
   "outputs": [
    {
     "name": "stdout",
     "output_type": "stream",
     "text": [
      "Epoch 20, loss 0.7185\n",
      "Epoch 40, loss 0.6291\n",
      "Epoch 60, loss 0.6560\n",
      "Epoch 80, loss 0.5590\n",
      "Epoch 100, loss 0.5284\n",
      "Epoch 120, loss 0.4693\n",
      "Epoch 140, loss 0.4655\n",
      "Epoch 160, loss 0.4255\n",
      "Epoch 180, loss 0.4668\n",
      "Epoch 200, loss 0.3760\n"
     ]
    }
   ],
   "source": [
    "epoch_losses = []\n",
    "for epoch in range(200):\n",
    "    epoch_loss = 0\n",
    "    for i, (bg, label) in enumerate(data_loader):\n",
    "        bg.set_e_initializer(dgl.init.zero_initializer)\n",
    "        bg.set_n_initializer(dgl.init.zero_initializer)        \n",
    "        pred = model(bg)\n",
    "        loss = loss_func(pred, label)\n",
    "        \n",
    "        optimizer.zero_grad()\n",
    "        loss.backward()\n",
    "        optimizer.step()\n",
    "        epoch_loss += loss.detach().item()\n",
    "    epoch_loss /= (i + 1)\n",
    "    if (epoch+1) % 20 == 0:\n",
    "        print('Epoch {}, loss {:.4f}'.format(epoch+1, epoch_loss))\n",
    "    epoch_losses.append(epoch_loss)"
   ]
  },
  {
   "cell_type": "code",
   "execution_count": 9,
   "metadata": {
    "scrolled": true
   },
   "outputs": [
    {
     "data": {
      "text/plain": [
       "[<matplotlib.lines.Line2D at 0x7f5fed5b6cf8>]"
      ]
     },
     "execution_count": 9,
     "metadata": {},
     "output_type": "execute_result"
    },
    {
     "data": {
      "image/png": "[encoded data removed]",
      "text/plain": [
       "<Figure size 432x288 with 1 Axes>"
      ]
     },
     "metadata": {
      "needs_background": "light"
     },
     "output_type": "display_data"
    }
   ],
   "source": [
    "plt.plot(epoch_losses, c='b')"
   ]
  },
  {
   "cell_type": "code",
   "execution_count": 10,
   "metadata": {},
   "outputs": [],
   "source": [
    "def batch_predict(model,graphs):\n",
    "\n",
    "    model.eval()\n",
    "    bg = dgl.batch(graphs)\n",
    "    bg.set_e_initializer(dgl.init.zero_initializer)\n",
    "    bg.set_n_initializer(dgl.init.zero_initializer)\n",
    "\n",
    "    return model(bg).detach().numpy()"
   ]
  },
  {
   "cell_type": "code",
   "execution_count": 11,
   "metadata": {},
   "outputs": [
    {
     "name": "stderr",
     "output_type": "stream",
     "text": [
      "/home/kh/anaconda3/envs/self/lib/python3.6/site-packages/seaborn/_decorators.py:43: FutureWarning: Pass the following variables as keyword args: x, y. From version 0.12, the only valid positional argument will be `data`, and passing other arguments without an explicit keyword will result in an error or misinterpretation.\n",
      "  FutureWarning\n",
      "/home/kh/anaconda3/envs/self/lib/python3.6/site-packages/seaborn/_decorators.py:43: FutureWarning: Pass the following variables as keyword args: x, y. From version 0.12, the only valid positional argument will be `data`, and passing other arguments without an explicit keyword will result in an error or misinterpretation.\n",
      "  FutureWarning\n"
     ]
    },
    {
     "data": {
      "text/plain": [
       "<matplotlib.axes._subplots.AxesSubplot at 0x7f5f7b183780>"
      ]
     },
     "execution_count": 11,
     "metadata": {},
     "output_type": "execute_result"
    },
    {
     "data": {
      "image/png": "[encoded data removed]",
      "text/plain": [
       "<Figure size 432x288 with 1 Axes>"
      ]
     },
     "metadata": {
      "needs_background": "light"
     },
     "output_type": "display_data"
    }
   ],
   "source": [
    "#predict\n",
    "\n",
    "tr_pred_y=batch_predict(model,train_graphs)\n",
    "te_pred_y=batch_predict(model,test_graphs)\n",
    "\n",
    "\n",
    "sns.scatterplot(train_y.reshape(-1),tr_pred_y.reshape(-1))\n",
    "sns.scatterplot(test_y.reshape(-1),te_pred_y.reshape(-1))"
   ]
  },
  {
   "cell_type": "code",
   "execution_count": 12,
   "metadata": {},
   "outputs": [
    {
     "name": "stdout",
     "output_type": "stream",
     "text": [
      "(113, 32)\n"
     ]
    },
    {
     "data": {
      "text/plain": [
       "array([[0.36878386, 0.20890903, 0.        , ..., 0.29236218, 0.35949525,\n",
       "        0.3447403 ],\n",
       "       [0.54445916, 0.4500169 , 0.        , ..., 0.4167077 , 0.21767834,\n",
       "        0.25998813],\n",
       "       [0.35692197, 0.27095714, 0.        , ..., 0.26822546, 0.25776905,\n",
       "        0.38824657],\n",
       "       ...,\n",
       "       [0.77154046, 0.74897814, 0.        , ..., 0.58343506, 0.11439871,\n",
       "        0.12355288],\n",
       "       [0.3530692 , 0.183501  , 0.        , ..., 0.24780399, 0.16589752,\n",
       "        0.5282407 ],\n",
       "       [0.49353603, 0.3461177 , 0.        , ..., 0.34894222, 0.3011178 ,\n",
       "        0.19189858]], dtype=float32)"
      ]
     },
     "execution_count": 12,
     "metadata": {},
     "output_type": "execute_result"
    }
   ],
   "source": [
    "#output molecular descriptors\n",
    "\n",
    "model.intermediate_mode=2\n",
    "desc_array=batch_predict(model,train_graphs)\n",
    "print(desc_array.shape)\n",
    "desc_array"
   ]
  },
  {
   "cell_type": "code",
   "execution_count": null,
   "metadata": {},
   "outputs": [],
   "source": []
  }
 ],
 "metadata": {
  "kernelspec": {
   "display_name": "Environment (conda_self)",
   "language": "python",
   "name": "conda_self"
  },
  "language_info": {
   "codemirror_mode": {
    "name": "ipython",
    "version": 3
   },
   "file_extension": ".py",
   "mimetype": "text/x-python",
   "name": "python",
   "nbconvert_exporter": "python",
   "pygments_lexer": "ipython3",
   "version": "3.6.12"
  }
 },
 "nbformat": 4,
 "nbformat_minor": 2
}
